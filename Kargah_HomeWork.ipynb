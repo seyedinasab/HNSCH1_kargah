{
  "nbformat": 4,
  "nbformat_minor": 0,
  "metadata": {
    "colab": {
      "provenance": []
    },
    "kernelspec": {
      "name": "python3",
      "display_name": "Python 3"
    },
    "language_info": {
      "name": "python"
    }
  },
  "cells": [
    {
      "cell_type": "markdown",
      "source": [
        "Q 1"
      ],
      "metadata": {
        "id": "_vY8fLFAo1WI"
      }
    },
    {
      "cell_type": "code",
      "execution_count": 1,
      "metadata": {
        "id": "womWrTlnopcF",
        "colab": {
          "base_uri": "https://localhost:8080/"
        },
        "outputId": "b0ccf18e-9cb9-4169-9f1d-c29ec57d0ecf"
      },
      "outputs": [
        {
          "output_type": "stream",
          "name": "stdout",
          "text": [
            "a: 12\n",
            "b: 0\n",
            "0.0\n"
          ]
        }
      ],
      "source": [
        "a = int(input(\"a: \"))\n",
        "b = int(input(\"b: \"))\n",
        "\n",
        "x = - b / 2 * a\n",
        "print(x)"
      ]
    },
    {
      "cell_type": "markdown",
      "source": [
        "Q 2"
      ],
      "metadata": {
        "id": "ZZlEJaTuqaDi"
      }
    },
    {
      "cell_type": "code",
      "source": [
        "x = int(input(\"x: \"))\n",
        "y = int(input(\"y: \"))\n",
        "\n",
        "if x % y == 0:\n",
        "  print(\"x is divisible by y\")\n",
        "else:\n",
        "  print(\"x is not divisible by y\")"
      ],
      "metadata": {
        "colab": {
          "base_uri": "https://localhost:8080/"
        },
        "id": "FqJt5rmRqYJc",
        "outputId": "2d72cc5c-2cc0-482a-f26b-8de1481a5575"
      },
      "execution_count": 2,
      "outputs": [
        {
          "output_type": "stream",
          "name": "stdout",
          "text": [
            "x: 5\n",
            "y: 1\n",
            "x is divisible by y\n"
          ]
        }
      ]
    },
    {
      "cell_type": "markdown",
      "source": [
        "Q 3"
      ],
      "metadata": {
        "id": "8_QIQgqqq-vJ"
      }
    },
    {
      "cell_type": "code",
      "source": [
        "import math\n",
        "\n",
        "a = int(input(\"a: \"))\n",
        "b = int(input(\"b: \"))\n",
        "c = int(input(\"c: \"))\n",
        "\n",
        "if b ** 2 - 4 * a * c < 0:\n",
        "  print(\"No real roots\")\n",
        "\n",
        "elif b ** 2 - 4 * a * c == 0:\n",
        "  x = - b / 2 * a\n",
        "  print(f\"x = {x}\")\n",
        "else:\n",
        "  x1 = (- b + math.sqrt(b ** 2 - 4 * a * c)) / 2 * a\n",
        "  x2 = (- b - math.sqrt(b ** 2 - 4 * a * c)) / 2 * a\n",
        "  print(f\"x1 = {x1}\")\n",
        "  print(f\"x2 = {x2}\")"
      ],
      "metadata": {
        "colab": {
          "base_uri": "https://localhost:8080/"
        },
        "id": "Rs6HHRzrq7i8",
        "outputId": "7a59e5b2-89ed-4d4a-98e8-85f370ca442a"
      },
      "execution_count": 7,
      "outputs": [
        {
          "output_type": "stream",
          "name": "stdout",
          "text": [
            "a: 5\n",
            "b: 4\n",
            "c: -2\n",
            "x1 = 8.708286933869706\n",
            "x2 = -28.708286933869704\n"
          ]
        }
      ]
    },
    {
      "cell_type": "markdown",
      "source": [
        "Q 4"
      ],
      "metadata": {
        "id": "2UzJb-BJrpuK"
      }
    },
    {
      "cell_type": "code",
      "source": [
        "n = int(input(\"n: \"))\n",
        "m = int(input(\"m: \"))\n",
        "\n",
        "count = 1\n",
        "\n",
        "while count * n < m:\n",
        "  print(count * n)\n",
        "  count += 1"
      ],
      "metadata": {
        "colab": {
          "base_uri": "https://localhost:8080/"
        },
        "id": "zwHqlG8yrX2M",
        "outputId": "5e93123d-c4ac-4b3f-edc2-82869b943c24"
      },
      "execution_count": 10,
      "outputs": [
        {
          "output_type": "stream",
          "name": "stdout",
          "text": [
            "n: 1\n",
            "m: 5\n",
            "1\n",
            "2\n",
            "3\n",
            "4\n"
          ]
        }
      ]
    },
    {
      "cell_type": "markdown",
      "source": [
        "Q 5"
      ],
      "metadata": {
        "id": "7LKWgf5tsttp"
      }
    },
    {
      "cell_type": "code",
      "source": [
        "s = input(\"s: \")\n",
        "\n",
        "for item in s.upper():\n",
        "  print(item)"
      ],
      "metadata": {
        "colab": {
          "base_uri": "https://localhost:8080/"
        },
        "id": "VQwrRXyPsvhp",
        "outputId": "fc7b040e-6ab9-4e80-80e6-5fb34d0021e6"
      },
      "execution_count": 12,
      "outputs": [
        {
          "output_type": "stream",
          "name": "stdout",
          "text": [
            "s: hello\n",
            "H\n",
            "E\n",
            "L\n",
            "L\n",
            "O\n"
          ]
        }
      ]
    }
  ]
}